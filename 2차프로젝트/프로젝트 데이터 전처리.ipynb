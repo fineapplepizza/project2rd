{
 "cells": [
  {
   "cell_type": "code",
   "execution_count": 159,
   "metadata": {},
   "outputs": [],
   "source": [
    "import pandas as pd"
   ]
  },
  {
   "cell_type": "code",
   "execution_count": 142,
   "metadata": {},
   "outputs": [],
   "source": [
    "pd.set_option('display.max_row',500)\n",
    "pd.set_option('display.max_columns',100)"
   ]
  },
  {
   "cell_type": "markdown",
   "metadata": {},
   "source": [
    "# 1.문제정의\n",
    "- 추천성향:활동성,친화성,털빠짐,집지키기,실내외구분 데이터 전처리하기"
   ]
  },
  {
   "cell_type": "markdown",
   "metadata": {},
   "source": [
    "# 2.데이터 수집"
   ]
  },
  {
   "cell_type": "code",
   "execution_count": 211,
   "metadata": {
    "scrolled": true
   },
   "outputs": [
    {
     "data": {
      "text/html": [
       "<div>\n",
       "<style scoped>\n",
       "    .dataframe tbody tr th:only-of-type {\n",
       "        vertical-align: middle;\n",
       "    }\n",
       "\n",
       "    .dataframe tbody tr th {\n",
       "        vertical-align: top;\n",
       "    }\n",
       "\n",
       "    .dataframe thead th {\n",
       "        text-align: right;\n",
       "    }\n",
       "</style>\n",
       "<table border=\"1\" class=\"dataframe\">\n",
       "  <thead>\n",
       "    <tr style=\"text-align: right;\">\n",
       "      <th></th>\n",
       "      <th>이름</th>\n",
       "      <th>추천성향</th>\n",
       "      <th>친화성</th>\n",
       "      <th>털빠짐</th>\n",
       "      <th>집지키기</th>\n",
       "      <th>실내외구분</th>\n",
       "    </tr>\n",
       "  </thead>\n",
       "  <tbody>\n",
       "    <tr>\n",
       "      <th>0</th>\n",
       "      <td>프렌치 불도그 [French Bulldog]</td>\n",
       "      <td>아파트/단독주택/전원주택, \\n                             ...</td>\n",
       "      <td>보통</td>\n",
       "      <td>많음</td>\n",
       "      <td>부적절</td>\n",
       "      <td>실내, \\n                                        실외</td>\n",
       "    </tr>\n",
       "    <tr>\n",
       "      <th>1</th>\n",
       "      <td>풍산개 [Poongsan Dog]</td>\n",
       "      <td>단독주택/전원주택, \\n                                 ...</td>\n",
       "      <td>낮음</td>\n",
       "      <td>보통</td>\n",
       "      <td>뛰어남</td>\n",
       "      <td>실외</td>\n",
       "    </tr>\n",
       "    <tr>\n",
       "      <th>2</th>\n",
       "      <td>풀리 [Puli]</td>\n",
       "      <td>단독주택/전원주택, \\n                                 ...</td>\n",
       "      <td>보통</td>\n",
       "      <td>적음</td>\n",
       "      <td>뛰어남</td>\n",
       "      <td>실외</td>\n",
       "    </tr>\n",
       "    <tr>\n",
       "      <th>3</th>\n",
       "      <td>포인터 [Pointer]</td>\n",
       "      <td>단독주택/전원주택, \\n                                 ...</td>\n",
       "      <td>높음</td>\n",
       "      <td>보통</td>\n",
       "      <td>부적절</td>\n",
       "      <td>실외</td>\n",
       "    </tr>\n",
       "    <tr>\n",
       "      <th>4</th>\n",
       "      <td>포메라니안 [Pomeranian]</td>\n",
       "      <td>아파트/단독주택/전원주택, \\n                             ...</td>\n",
       "      <td>보통</td>\n",
       "      <td>보통</td>\n",
       "      <td>뛰어남</td>\n",
       "      <td>실내</td>\n",
       "    </tr>\n",
       "  </tbody>\n",
       "</table>\n",
       "</div>"
      ],
      "text/plain": [
       "                         이름  \\\n",
       "0  프렌치 불도그 [French Bulldog]   \n",
       "1        풍산개 [Poongsan Dog]   \n",
       "2                 풀리 [Puli]   \n",
       "3             포인터 [Pointer]   \n",
       "4        포메라니안 [Pomeranian]   \n",
       "\n",
       "                                                추천성향 친화성 털빠짐 집지키기  \\\n",
       "0  아파트/단독주택/전원주택, \\n                             ...  보통  많음  부적절   \n",
       "1  단독주택/전원주택, \\n                                 ...  낮음  보통  뛰어남   \n",
       "2  단독주택/전원주택, \\n                                 ...  보통  적음  뛰어남   \n",
       "3  단독주택/전원주택, \\n                                 ...  높음  보통  부적절   \n",
       "4  아파트/단독주택/전원주택, \\n                             ...  보통  보통  뛰어남   \n",
       "\n",
       "                                              실내외구분  \n",
       "0  실내, \\n                                        실외  \n",
       "1                                                실외  \n",
       "2                                                실외  \n",
       "3                                                실외  \n",
       "4                                                실내  "
      ]
     },
     "execution_count": 211,
     "metadata": {},
     "output_type": "execute_result"
    }
   ],
   "source": [
    "dogData=pd.read_excel('dogList.xls',\n",
    "                        usecols='A,H,L,M,N,N,O')\n",
    "dogData.head()"
   ]
  },
  {
   "cell_type": "markdown",
   "metadata": {},
   "source": [
    "# 3.데이터 전처리"
   ]
  },
  {
   "cell_type": "code",
   "execution_count": 212,
   "metadata": {},
   "outputs": [
    {
     "name": "stdout",
     "output_type": "stream",
     "text": [
      "<class 'pandas.core.frame.DataFrame'>\n",
      "RangeIndex: 127 entries, 0 to 126\n",
      "Data columns (total 6 columns):\n",
      " #   Column  Non-Null Count  Dtype \n",
      "---  ------  --------------  ----- \n",
      " 0   이름      127 non-null    object\n",
      " 1   추천성향    127 non-null    object\n",
      " 2   친화성     127 non-null    object\n",
      " 3   털빠짐     127 non-null    object\n",
      " 4   집지키기    126 non-null    object\n",
      " 5   실내외구분   127 non-null    object\n",
      "dtypes: object(6)\n",
      "memory usage: 6.1+ KB\n"
     ]
    }
   ],
   "source": [
    "dogData.info()"
   ]
  },
  {
   "cell_type": "code",
   "execution_count": 213,
   "metadata": {},
   "outputs": [
    {
     "data": {
      "text/html": [
       "<div>\n",
       "<style scoped>\n",
       "    .dataframe tbody tr th:only-of-type {\n",
       "        vertical-align: middle;\n",
       "    }\n",
       "\n",
       "    .dataframe tbody tr th {\n",
       "        vertical-align: top;\n",
       "    }\n",
       "\n",
       "    .dataframe thead th {\n",
       "        text-align: right;\n",
       "    }\n",
       "</style>\n",
       "<table border=\"1\" class=\"dataframe\">\n",
       "  <thead>\n",
       "    <tr style=\"text-align: right;\">\n",
       "      <th></th>\n",
       "      <th>이름</th>\n",
       "      <th>추천성향</th>\n",
       "      <th>친화성</th>\n",
       "      <th>털빠짐</th>\n",
       "      <th>집지키기</th>\n",
       "      <th>실내외구분</th>\n",
       "    </tr>\n",
       "  </thead>\n",
       "  <tbody>\n",
       "    <tr>\n",
       "      <th>count</th>\n",
       "      <td>127</td>\n",
       "      <td>127</td>\n",
       "      <td>127</td>\n",
       "      <td>127</td>\n",
       "      <td>126</td>\n",
       "      <td>127</td>\n",
       "    </tr>\n",
       "    <tr>\n",
       "      <th>unique</th>\n",
       "      <td>127</td>\n",
       "      <td>15</td>\n",
       "      <td>3</td>\n",
       "      <td>3</td>\n",
       "      <td>3</td>\n",
       "      <td>3</td>\n",
       "    </tr>\n",
       "    <tr>\n",
       "      <th>top</th>\n",
       "      <td>블러드 하운드 [Bloodhound]</td>\n",
       "      <td>단독주택/전원주택, \\n                                 ...</td>\n",
       "      <td>보통</td>\n",
       "      <td>보통</td>\n",
       "      <td>뛰어남</td>\n",
       "      <td>실외</td>\n",
       "    </tr>\n",
       "    <tr>\n",
       "      <th>freq</th>\n",
       "      <td>1</td>\n",
       "      <td>28</td>\n",
       "      <td>68</td>\n",
       "      <td>71</td>\n",
       "      <td>51</td>\n",
       "      <td>79</td>\n",
       "    </tr>\n",
       "  </tbody>\n",
       "</table>\n",
       "</div>"
      ],
      "text/plain": [
       "                          이름  \\\n",
       "count                    127   \n",
       "unique                   127   \n",
       "top     블러드 하운드 [Bloodhound]   \n",
       "freq                       1   \n",
       "\n",
       "                                                     추천성향  친화성  털빠짐 집지키기 실내외구분  \n",
       "count                                                 127  127  127  126   127  \n",
       "unique                                                 15    3    3    3     3  \n",
       "top     단독주택/전원주택, \\n                                 ...   보통   보통  뛰어남    실외  \n",
       "freq                                                   28   68   71   51    79  "
      ]
     },
     "execution_count": 213,
     "metadata": {},
     "output_type": "execute_result"
    }
   ],
   "source": [
    "dogData.describe()"
   ]
  },
  {
   "cell_type": "code",
   "execution_count": 217,
   "metadata": {},
   "outputs": [
    {
     "data": {
      "text/plain": [
       "'보통'"
      ]
     },
     "execution_count": 217,
     "metadata": {},
     "output_type": "execute_result"
    }
   ],
   "source": [
    "dogData['추천성향'][0][-2:]"
   ]
  },
  {
   "cell_type": "code",
   "execution_count": 163,
   "metadata": {},
   "outputs": [],
   "source": [
    "#\\n없애기\n",
    "#활동량만 저장하기\n",
    "doglike=dogData['추천성향'][1].split(',')"
   ]
  },
  {
   "cell_type": "code",
   "execution_count": 52,
   "metadata": {},
   "outputs": [],
   "source": [
    "doglike_a =doglike[2].replace(' ','')"
   ]
  },
  {
   "cell_type": "code",
   "execution_count": 63,
   "metadata": {},
   "outputs": [
    {
     "data": {
      "text/plain": [
       "'보통'"
      ]
     },
     "execution_count": 63,
     "metadata": {},
     "output_type": "execute_result"
    }
   ],
   "source": [
    "doglike_a[4:6]"
   ]
  },
  {
   "cell_type": "code",
   "execution_count": 66,
   "metadata": {},
   "outputs": [
    {
     "data": {
      "text/plain": [
       "0      아파트/단독주택/전원주택, \\n                             ...\n",
       "1      단독주택/전원주택, \\n                                 ...\n",
       "2      단독주택/전원주택, \\n                                 ...\n",
       "3      단독주택/전원주택, \\n                                 ...\n",
       "4      아파트/단독주택/전원주택, \\n                             ...\n",
       "                             ...                        \n",
       "122    단독주택, \\n                                      ...\n",
       "123    아파트/단독주택/전원주택, \\n                             ...\n",
       "124    아파트/단독주택/전원주택, \\n                             ...\n",
       "125    단독주택/전원주택, \\n                                 ...\n",
       "126    단독주택/전원주택, \\n                                 ...\n",
       "Name: 추천성향, Length: 127, dtype: object"
      ]
     },
     "execution_count": 66,
     "metadata": {},
     "output_type": "execute_result"
    }
   ],
   "source": [
    "dogData['추천성향']"
   ]
  },
  {
   "cell_type": "code",
   "execution_count": null,
   "metadata": {},
   "outputs": [],
   "source": []
  },
  {
   "cell_type": "code",
   "execution_count": 135,
   "metadata": {},
   "outputs": [
    {
     "data": {
      "text/plain": [
       "'많음'"
      ]
     },
     "execution_count": 135,
     "metadata": {},
     "output_type": "execute_result"
    }
   ],
   "source": [
    "doglike=dogData['추천성향'][77][-2:]\n",
    "doglike"
   ]
  },
  {
   "cell_type": "code",
   "execution_count": 218,
   "metadata": {},
   "outputs": [],
   "source": [
    "dogwork=[]\n",
    "for i in range(0,127):\n",
    "    doglike=dogData['추천성향'][i][-2:]\n",
    "    dogwork.append(doglike)"
   ]
  },
  {
   "cell_type": "code",
   "execution_count": 219,
   "metadata": {},
   "outputs": [],
   "source": [
    "dogData['운동량']=dogwork"
   ]
  },
  {
   "cell_type": "code",
   "execution_count": 220,
   "metadata": {},
   "outputs": [
    {
     "data": {
      "text/html": [
       "<div>\n",
       "<style scoped>\n",
       "    .dataframe tbody tr th:only-of-type {\n",
       "        vertical-align: middle;\n",
       "    }\n",
       "\n",
       "    .dataframe tbody tr th {\n",
       "        vertical-align: top;\n",
       "    }\n",
       "\n",
       "    .dataframe thead th {\n",
       "        text-align: right;\n",
       "    }\n",
       "</style>\n",
       "<table border=\"1\" class=\"dataframe\">\n",
       "  <thead>\n",
       "    <tr style=\"text-align: right;\">\n",
       "      <th></th>\n",
       "      <th>이름</th>\n",
       "      <th>추천성향</th>\n",
       "      <th>친화성</th>\n",
       "      <th>털빠짐</th>\n",
       "      <th>집지키기</th>\n",
       "      <th>실내외구분</th>\n",
       "      <th>운동량</th>\n",
       "    </tr>\n",
       "  </thead>\n",
       "  <tbody>\n",
       "    <tr>\n",
       "      <th>0</th>\n",
       "      <td>프렌치 불도그 [French Bulldog]</td>\n",
       "      <td>아파트/단독주택/전원주택, \\n                             ...</td>\n",
       "      <td>보통</td>\n",
       "      <td>많음</td>\n",
       "      <td>부적절</td>\n",
       "      <td>실내, \\n                                        실외</td>\n",
       "      <td>보통</td>\n",
       "    </tr>\n",
       "    <tr>\n",
       "      <th>1</th>\n",
       "      <td>풍산개 [Poongsan Dog]</td>\n",
       "      <td>단독주택/전원주택, \\n                                 ...</td>\n",
       "      <td>낮음</td>\n",
       "      <td>보통</td>\n",
       "      <td>뛰어남</td>\n",
       "      <td>실외</td>\n",
       "      <td>보통</td>\n",
       "    </tr>\n",
       "    <tr>\n",
       "      <th>2</th>\n",
       "      <td>풀리 [Puli]</td>\n",
       "      <td>단독주택/전원주택, \\n                                 ...</td>\n",
       "      <td>보통</td>\n",
       "      <td>적음</td>\n",
       "      <td>뛰어남</td>\n",
       "      <td>실외</td>\n",
       "      <td>많음</td>\n",
       "    </tr>\n",
       "    <tr>\n",
       "      <th>3</th>\n",
       "      <td>포인터 [Pointer]</td>\n",
       "      <td>단독주택/전원주택, \\n                                 ...</td>\n",
       "      <td>높음</td>\n",
       "      <td>보통</td>\n",
       "      <td>부적절</td>\n",
       "      <td>실외</td>\n",
       "      <td>많음</td>\n",
       "    </tr>\n",
       "    <tr>\n",
       "      <th>4</th>\n",
       "      <td>포메라니안 [Pomeranian]</td>\n",
       "      <td>아파트/단독주택/전원주택, \\n                             ...</td>\n",
       "      <td>보통</td>\n",
       "      <td>보통</td>\n",
       "      <td>뛰어남</td>\n",
       "      <td>실내</td>\n",
       "      <td>보통</td>\n",
       "    </tr>\n",
       "  </tbody>\n",
       "</table>\n",
       "</div>"
      ],
      "text/plain": [
       "                         이름  \\\n",
       "0  프렌치 불도그 [French Bulldog]   \n",
       "1        풍산개 [Poongsan Dog]   \n",
       "2                 풀리 [Puli]   \n",
       "3             포인터 [Pointer]   \n",
       "4        포메라니안 [Pomeranian]   \n",
       "\n",
       "                                                추천성향 친화성 털빠짐 집지키기  \\\n",
       "0  아파트/단독주택/전원주택, \\n                             ...  보통  많음  부적절   \n",
       "1  단독주택/전원주택, \\n                                 ...  낮음  보통  뛰어남   \n",
       "2  단독주택/전원주택, \\n                                 ...  보통  적음  뛰어남   \n",
       "3  단독주택/전원주택, \\n                                 ...  높음  보통  부적절   \n",
       "4  아파트/단독주택/전원주택, \\n                             ...  보통  보통  뛰어남   \n",
       "\n",
       "                                              실내외구분 운동량  \n",
       "0  실내, \\n                                        실외  보통  \n",
       "1                                                실외  보통  \n",
       "2                                                실외  많음  \n",
       "3                                                실외  많음  \n",
       "4                                                실내  보통  "
      ]
     },
     "execution_count": 220,
     "metadata": {},
     "output_type": "execute_result"
    }
   ],
   "source": [
    "dogData.head()"
   ]
  },
  {
   "cell_type": "code",
   "execution_count": 221,
   "metadata": {},
   "outputs": [],
   "source": [
    "#실내외 구분 \\n 없애기\n",
    "dogData['실내외구분']=dogData['실내외구분'].str.strip()"
   ]
  },
  {
   "cell_type": "code",
   "execution_count": 222,
   "metadata": {},
   "outputs": [],
   "source": [
    "dogData['실내외구분']=dogData['실내외구분'].str.replace(' \\n                                        ','')"
   ]
  },
  {
   "cell_type": "code",
   "execution_count": 223,
   "metadata": {},
   "outputs": [
    {
     "data": {
      "text/plain": [
       "0      실내,실외\n",
       "1         실외\n",
       "2         실외\n",
       "3         실외\n",
       "4         실내\n",
       "5         실내\n",
       "6         실내\n",
       "7         실내\n",
       "8      실내,실외\n",
       "9      실내,실외\n",
       "10        실외\n",
       "11        실내\n",
       "12        실내\n",
       "13        실외\n",
       "14        실외\n",
       "15        실외\n",
       "16        실외\n",
       "17        실외\n",
       "18     실내,실외\n",
       "19        실외\n",
       "20        실외\n",
       "21        실내\n",
       "22        실내\n",
       "23        실외\n",
       "24        실내\n",
       "25        실외\n",
       "26        실외\n",
       "27        실외\n",
       "28        실내\n",
       "29     실내,실외\n",
       "30        실외\n",
       "31        실외\n",
       "32        실외\n",
       "33     실내,실외\n",
       "34        실외\n",
       "35     실내,실외\n",
       "36        실외\n",
       "37        실외\n",
       "38        실내\n",
       "39     실내,실외\n",
       "40     실내,실외\n",
       "41     실내,실외\n",
       "42        실내\n",
       "43        실외\n",
       "44        실외\n",
       "45        실외\n",
       "46     실내,실외\n",
       "47        실외\n",
       "48        실외\n",
       "49        실외\n",
       "50        실내\n",
       "51        실외\n",
       "52        실외\n",
       "53        실외\n",
       "54        실외\n",
       "55        실외\n",
       "56     실내,실외\n",
       "57        실내\n",
       "58     실내,실외\n",
       "59        실내\n",
       "60        실외\n",
       "61        실외\n",
       "62        실외\n",
       "63        실외\n",
       "64     실내,실외\n",
       "65        실외\n",
       "66        실외\n",
       "67        실외\n",
       "68        실외\n",
       "69        실외\n",
       "70        실외\n",
       "71        실외\n",
       "72        실외\n",
       "73        실외\n",
       "74        실외\n",
       "75        실외\n",
       "76     실내,실외\n",
       "77        실외\n",
       "78        실외\n",
       "79        실외\n",
       "80        실외\n",
       "81     실내,실외\n",
       "82     실내,실외\n",
       "83        실외\n",
       "84        실외\n",
       "85        실외\n",
       "86        실외\n",
       "87        실내\n",
       "88        실외\n",
       "89     실내,실외\n",
       "90        실외\n",
       "91        실외\n",
       "92        실외\n",
       "93        실외\n",
       "94        실외\n",
       "95     실내,실외\n",
       "96        실외\n",
       "97     실내,실외\n",
       "98     실내,실외\n",
       "99        실내\n",
       "100       실내\n",
       "101    실내,실외\n",
       "102       실내\n",
       "103       실외\n",
       "104       실외\n",
       "105       실외\n",
       "106       실외\n",
       "107       실외\n",
       "108       실외\n",
       "109       실내\n",
       "110       실외\n",
       "111    실내,실외\n",
       "112       실외\n",
       "113    실내,실외\n",
       "114       실외\n",
       "115    실내,실외\n",
       "116    실내,실외\n",
       "117       실외\n",
       "118       실외\n",
       "119       실외\n",
       "120       실외\n",
       "121       실외\n",
       "122       실외\n",
       "123    실내,실외\n",
       "124    실내,실외\n",
       "125       실외\n",
       "126       실외\n",
       "Name: 실내외구분, dtype: object"
      ]
     },
     "execution_count": 223,
     "metadata": {},
     "output_type": "execute_result"
    }
   ],
   "source": [
    "dogData['실내외구분']"
   ]
  },
  {
   "cell_type": "code",
   "execution_count": 224,
   "metadata": {},
   "outputs": [],
   "source": [
    "#추천성향 컬럼 없애기\n",
    "dogData.drop('추천성향',axis=1,inplace=True)"
   ]
  },
  {
   "cell_type": "code",
   "execution_count": 225,
   "metadata": {},
   "outputs": [
    {
     "data": {
      "text/plain": [
       "Index(['이름', '친화성', '털빠짐', '집지키기', '실내외구분', '운동량'], dtype='object')"
      ]
     },
     "execution_count": 225,
     "metadata": {},
     "output_type": "execute_result"
    }
   ],
   "source": [
    "dogData.columns"
   ]
  },
  {
   "cell_type": "code",
   "execution_count": 226,
   "metadata": {},
   "outputs": [],
   "source": [
    "#집지키기 결측치 채우기\n",
    "dogData['집지키기']=dogData['집지키기'].fillna('보통')"
   ]
  },
  {
   "cell_type": "code",
   "execution_count": 190,
   "metadata": {},
   "outputs": [
    {
     "name": "stdout",
     "output_type": "stream",
     "text": [
      "<class 'pandas.core.frame.DataFrame'>\n",
      "RangeIndex: 127 entries, 0 to 126\n",
      "Data columns (total 6 columns):\n",
      " #   Column  Non-Null Count  Dtype \n",
      "---  ------  --------------  ----- \n",
      " 0   이름      127 non-null    object\n",
      " 1   친화성     127 non-null    object\n",
      " 2   털빠짐     127 non-null    object\n",
      " 3   집지키기    127 non-null    object\n",
      " 4   실내외구분   127 non-null    object\n",
      " 5   운동량     127 non-null    object\n",
      "dtypes: object(6)\n",
      "memory usage: 6.1+ KB\n"
     ]
    }
   ],
   "source": [
    "dogData.info()"
   ]
  },
  {
   "cell_type": "code",
   "execution_count": 227,
   "metadata": {},
   "outputs": [
    {
     "data": {
      "text/html": [
       "<div>\n",
       "<style scoped>\n",
       "    .dataframe tbody tr th:only-of-type {\n",
       "        vertical-align: middle;\n",
       "    }\n",
       "\n",
       "    .dataframe tbody tr th {\n",
       "        vertical-align: top;\n",
       "    }\n",
       "\n",
       "    .dataframe thead th {\n",
       "        text-align: right;\n",
       "    }\n",
       "</style>\n",
       "<table border=\"1\" class=\"dataframe\">\n",
       "  <thead>\n",
       "    <tr style=\"text-align: right;\">\n",
       "      <th></th>\n",
       "      <th>이름</th>\n",
       "      <th>친화성</th>\n",
       "      <th>털빠짐</th>\n",
       "      <th>집지키기</th>\n",
       "      <th>실내외구분</th>\n",
       "      <th>운동량</th>\n",
       "    </tr>\n",
       "  </thead>\n",
       "  <tbody>\n",
       "    <tr>\n",
       "      <th>0</th>\n",
       "      <td>프렌치 불도그 [French Bulldog]</td>\n",
       "      <td>보통</td>\n",
       "      <td>많음</td>\n",
       "      <td>부적절</td>\n",
       "      <td>실내,실외</td>\n",
       "      <td>보통</td>\n",
       "    </tr>\n",
       "    <tr>\n",
       "      <th>1</th>\n",
       "      <td>풍산개 [Poongsan Dog]</td>\n",
       "      <td>낮음</td>\n",
       "      <td>보통</td>\n",
       "      <td>뛰어남</td>\n",
       "      <td>실외</td>\n",
       "      <td>보통</td>\n",
       "    </tr>\n",
       "    <tr>\n",
       "      <th>2</th>\n",
       "      <td>풀리 [Puli]</td>\n",
       "      <td>보통</td>\n",
       "      <td>적음</td>\n",
       "      <td>뛰어남</td>\n",
       "      <td>실외</td>\n",
       "      <td>많음</td>\n",
       "    </tr>\n",
       "    <tr>\n",
       "      <th>3</th>\n",
       "      <td>포인터 [Pointer]</td>\n",
       "      <td>높음</td>\n",
       "      <td>보통</td>\n",
       "      <td>부적절</td>\n",
       "      <td>실외</td>\n",
       "      <td>많음</td>\n",
       "    </tr>\n",
       "    <tr>\n",
       "      <th>4</th>\n",
       "      <td>포메라니안 [Pomeranian]</td>\n",
       "      <td>보통</td>\n",
       "      <td>보통</td>\n",
       "      <td>뛰어남</td>\n",
       "      <td>실내</td>\n",
       "      <td>보통</td>\n",
       "    </tr>\n",
       "  </tbody>\n",
       "</table>\n",
       "</div>"
      ],
      "text/plain": [
       "                         이름 친화성 털빠짐 집지키기  실내외구분 운동량\n",
       "0  프렌치 불도그 [French Bulldog]  보통  많음  부적절  실내,실외  보통\n",
       "1        풍산개 [Poongsan Dog]  낮음  보통  뛰어남     실외  보통\n",
       "2                 풀리 [Puli]  보통  적음  뛰어남     실외  많음\n",
       "3             포인터 [Pointer]  높음  보통  부적절     실외  많음\n",
       "4        포메라니안 [Pomeranian]  보통  보통  뛰어남     실내  보통"
      ]
     },
     "execution_count": 227,
     "metadata": {},
     "output_type": "execute_result"
    }
   ],
   "source": [
    "dogData.head()"
   ]
  },
  {
   "cell_type": "markdown",
   "metadata": {},
   "source": [
    "- 데이터 종류 알아보기"
   ]
  },
  {
   "cell_type": "code",
   "execution_count": 228,
   "metadata": {},
   "outputs": [
    {
     "data": {
      "text/plain": [
       "array(['보통', '낮음', '높음'], dtype=object)"
      ]
     },
     "execution_count": 228,
     "metadata": {},
     "output_type": "execute_result"
    }
   ],
   "source": [
    "dogData['친화성'].unique()"
   ]
  },
  {
   "cell_type": "code",
   "execution_count": 229,
   "metadata": {},
   "outputs": [
    {
     "data": {
      "text/plain": [
       "array(['많음', '보통', '적음'], dtype=object)"
      ]
     },
     "execution_count": 229,
     "metadata": {},
     "output_type": "execute_result"
    }
   ],
   "source": [
    "dogData['털빠짐'].unique()"
   ]
  },
  {
   "cell_type": "code",
   "execution_count": 230,
   "metadata": {},
   "outputs": [
    {
     "data": {
      "text/plain": [
       "array(['부적절', '뛰어남', '보통'], dtype=object)"
      ]
     },
     "execution_count": 230,
     "metadata": {},
     "output_type": "execute_result"
    }
   ],
   "source": [
    "dogData['집지키기'].unique()"
   ]
  },
  {
   "cell_type": "code",
   "execution_count": 231,
   "metadata": {},
   "outputs": [
    {
     "data": {
      "text/plain": [
       "array(['실내,실외', '실외', '실내'], dtype=object)"
      ]
     },
     "execution_count": 231,
     "metadata": {},
     "output_type": "execute_result"
    }
   ],
   "source": [
    "dogData['실내외구분'].unique()"
   ]
  },
  {
   "cell_type": "code",
   "execution_count": 232,
   "metadata": {},
   "outputs": [
    {
     "data": {
      "text/plain": [
       "array(['보통', '많음', '적음'], dtype=object)"
      ]
     },
     "execution_count": 232,
     "metadata": {},
     "output_type": "execute_result"
    }
   ],
   "source": [
    "dogData['운동량'].unique()"
   ]
  },
  {
   "cell_type": "markdown",
   "metadata": {},
   "source": [
    "- 라벨인코딩하기"
   ]
  },
  {
   "cell_type": "code",
   "execution_count": 233,
   "metadata": {},
   "outputs": [],
   "source": [
    "#라벨인코딩\n",
    "#-친화성\n",
    "friendly_Dictionary={\n",
    "    \"낮음\":\"l\",\n",
    "    \"보통\":\"m\",\n",
    "    \"높음\":\"h\"\n",
    "}\n",
    "#털빠짐\n",
    "furloss_Dictionary={\n",
    "    \"적음\":\"l\",\n",
    "    \"보통\":\"m\",\n",
    "    \"많음\":\"h\"\n",
    "}\n",
    "#집지키기\n",
    "homeSeild_Dictionary={\n",
    "    \"부적절\":\"f\",\n",
    "    \"보통\":\"m\",\n",
    "    \"뛰어남\":\"h\"\n",
    "}\n",
    "#실내외구분\n",
    "inOut_Dictionary={\n",
    "    \"실내,실외\":\"io\",\n",
    "    \"실내\":\"i\",\n",
    "    \"실외\":\"o\"\n",
    "}\n",
    "#운동량\n",
    "exercise_Dictionary={\n",
    "    \"적음\":\"l\",\n",
    "    \"보통\":\"m\",\n",
    "    \"많음\":\"h\"\n",
    "}\n"
   ]
  },
  {
   "cell_type": "code",
   "execution_count": 234,
   "metadata": {},
   "outputs": [],
   "source": [
    "dogData['친화성']=dogData['친화성'].map(friendly_Dictionary)\n",
    "dogData['털빠짐']=dogData['털빠짐'].map(furloss_Dictionary)\n",
    "dogData['집지키기']=dogData['집지키기'].map(homeSeild_Dictionary)\n",
    "dogData['실내외구분']=dogData['실내외구분'].map(inOut_Dictionary)\n",
    "dogData['운동량']=dogData['운동량'].map(exercise_Dictionary)"
   ]
  },
  {
   "cell_type": "code",
   "execution_count": 237,
   "metadata": {},
   "outputs": [],
   "source": [
    "dogData.to_csv('half.csv',index=False,encoding='euc-kr')"
   ]
  },
  {
   "cell_type": "code",
   "execution_count": null,
   "metadata": {},
   "outputs": [],
   "source": []
  },
  {
   "cell_type": "code",
   "execution_count": null,
   "metadata": {},
   "outputs": [],
   "source": []
  }
 ],
 "metadata": {
  "kernelspec": {
   "display_name": "Python 3",
   "language": "python",
   "name": "python3"
  },
  "language_info": {
   "codemirror_mode": {
    "name": "ipython",
    "version": 3
   },
   "file_extension": ".py",
   "mimetype": "text/x-python",
   "name": "python",
   "nbconvert_exporter": "python",
   "pygments_lexer": "ipython3",
   "version": "3.8.5"
  }
 },
 "nbformat": 4,
 "nbformat_minor": 4
}
